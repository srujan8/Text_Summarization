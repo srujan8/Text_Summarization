{
 "cells": [
  {
   "cell_type": "code",
   "execution_count": 16,
   "id": "d6263782",
   "metadata": {},
   "outputs": [],
   "source": [
    "f = open('summary.txt','r',encoding='latin')"
   ]
  },
  {
   "cell_type": "code",
   "execution_count": 17,
   "id": "9fe9b4c8",
   "metadata": {},
   "outputs": [
    {
     "data": {
      "text/plain": [
       "['We have often heard that \\x91Cricket is religion in India and Sachin is God\\x92. There is no better statement that can justify the status of Sachin Tendulkar in India. Sachin Tendulkar in India is not just a cricketer, he is God. Also for common people in India, he is an example of hard work and determination. Thus, he is worshipped by everyone in India. The essay on Sachin Tendulkar is a small insight into one of the greatest ever sportsman to have played any game.Sachin Tendulkar was born to a middle-class family and came to limelight with a performance in the school tournament. He held a record partnership at that time with Vinod Kambli playing for their school tournament. That innings changed Sachin\\x92s life completely and he became famous in a fortnight. In those days, the school tournaments had a different fanbase and a good performance can bring you in limelight. Because of that inning, people all over India came to know who Sachin Tendulkar was! Thus, it also caught Indian selector\\x92s eye and Sachin Tendulkar was selected for the tour of Pakistan at an age of 16.']"
      ]
     },
     "execution_count": 17,
     "metadata": {},
     "output_type": "execute_result"
    }
   ],
   "source": [
    "f1=f.readlines()\n",
    "contents=[]\n",
    "for line in f1:\n",
    "    contents.append(line)\n",
    "contents\n"
   ]
  },
  {
   "cell_type": "code",
   "execution_count": 18,
   "id": "e25729f7",
   "metadata": {},
   "outputs": [],
   "source": [
    "text = ' '.join([str(elem) for elem in contents])#list contents were converted to a string and stored in text"
   ]
  },
  {
   "cell_type": "code",
   "execution_count": 21,
   "id": "9f61ddaa",
   "metadata": {},
   "outputs": [
    {
     "data": {
      "text/plain": [
       "\"We have often heard that 'Cricket is religion in India and Sachin is God'. There is no better statement that can justify the status of Sachin Tendulkar in India. Sachin Tendulkar in India is not just a cricketer, he is God. Also for common people in India, he is an example of hard work and determination. Thus, he is worshipped by everyone in India. The essay on Sachin Tendulkar is a small insight into one of the greatest ever sportsman to have played any game.Sachin Tendulkar was born to a middle-class family and came to limelight with a performance in the school tournament. He held a record partnership at that time with Vinod Kambli playing for their school tournament. That innings changed Sachin's life completely and he became famous in a fortnight. In those days, the school tournaments had a different fanbase and a good performance can bring you in limelight. Because of that inning, people all over India came to know who Sachin Tendulkar was! Thus, it also caught Indian selector's eye and Sachin Tendulkar was selected for the tour of Pakistan at an age of 16.\""
      ]
     },
     "execution_count": 21,
     "metadata": {},
     "output_type": "execute_result"
    }
   ],
   "source": [
    "# Unicode character x91 and x92 was replaced with “‘” and kept in variable text.\n",
    "\n",
    "text=text.replace(\"\\x91\",\"'\")\n",
    "text=text.replace(\"\\x92\",\"'\")\n",
    "text"
   ]
  },
  {
   "cell_type": "code",
   "execution_count": 22,
   "id": "036794c3",
   "metadata": {},
   "outputs": [
    {
     "data": {
      "text/plain": [
       "1078"
      ]
     },
     "execution_count": 22,
     "metadata": {},
     "output_type": "execute_result"
    }
   ],
   "source": [
    "#The length of the whole text document\n",
    "\n",
    "len(text)"
   ]
  },
  {
   "cell_type": "code",
   "execution_count": 23,
   "id": "00e0366a",
   "metadata": {},
   "outputs": [
    {
     "name": "stdout",
     "output_type": "stream",
     "text": [
      "The number of words in the given text is : 188\n"
     ]
    }
   ],
   "source": [
    "#Number of words in the string\n",
    "\n",
    "f=len(text.split())\n",
    "print (\"The number of words in the given text is : \" +  str(f))"
   ]
  },
  {
   "cell_type": "code",
   "execution_count": 24,
   "id": "f723f3c7",
   "metadata": {},
   "outputs": [],
   "source": [
    "import spacy\n",
    "from spacy.lang.en.stop_words import STOP_WORDS\n",
    "from string import punctuation"
   ]
  },
  {
   "cell_type": "code",
   "execution_count": 25,
   "id": "74ca6540",
   "metadata": {},
   "outputs": [],
   "source": [
    "nlp= spacy.load(\"en_core_web_sm\")"
   ]
  },
  {
   "cell_type": "code",
   "execution_count": 26,
   "id": "ceaa1717",
   "metadata": {},
   "outputs": [],
   "source": [
    "doc=nlp(text)"
   ]
  },
  {
   "cell_type": "code",
   "execution_count": 27,
   "id": "df7372bf",
   "metadata": {},
   "outputs": [
    {
     "name": "stdout",
     "output_type": "stream",
     "text": [
      "['We', 'have', 'often', 'heard', 'that', \"'\", 'Cricket', 'is', 'religion', 'in', 'India', 'and', 'Sachin', 'is', 'God', \"'\", '.', 'There', 'is', 'no', 'better', 'statement', 'that', 'can', 'justify', 'the', 'status', 'of', 'Sachin', 'Tendulkar', 'in', 'India', '.', 'Sachin', 'Tendulkar', 'in', 'India', 'is', 'not', 'just', 'a', 'cricketer', ',', 'he', 'is', 'God', '.', 'Also', 'for', 'common', 'people', 'in', 'India', ',', 'he', 'is', 'an', 'example', 'of', 'hard', 'work', 'and', 'determination', '.', 'Thus', ',', 'he', 'is', 'worshipped', 'by', 'everyone', 'in', 'India', '.', 'The', 'essay', 'on', 'Sachin', 'Tendulkar', 'is', 'a', 'small', 'insight', 'into', 'one', 'of', 'the', 'greatest', 'ever', 'sportsman', 'to', 'have', 'played', 'any', 'game', '.', 'Sachin', 'Tendulkar', 'was', 'born', 'to', 'a', 'middle', '-', 'class', 'family', 'and', 'came', 'to', 'limelight', 'with', 'a', 'performance', 'in', 'the', 'school', 'tournament', '.', 'He', 'held', 'a', 'record', 'partnership', 'at', 'that', 'time', 'with', 'Vinod', 'Kambli', 'playing', 'for', 'their', 'school', 'tournament', '.', 'That', 'innings', 'changed', 'Sachin', \"'s\", 'life', 'completely', 'and', 'he', 'became', 'famous', 'in', 'a', 'fortnight', '.', 'In', 'those', 'days', ',', 'the', 'school', 'tournaments', 'had', 'a', 'different', 'fanbase', 'and', 'a', 'good', 'performance', 'can', 'bring', 'you', 'in', 'limelight', '.', 'Because', 'of', 'that', 'inning', ',', 'people', 'all', 'over', 'India', 'came', 'to', 'know', 'who', 'Sachin', 'Tendulkar', 'was', '!', 'Thus', ',', 'it', 'also', 'caught', 'Indian', 'selector', \"'s\", 'eye', 'and', 'Sachin', 'Tendulkar', 'was', 'selected', 'for', 'the', 'tour', 'of', 'Pakistan', 'at', 'an', 'age', 'of', '16', '.']\n"
     ]
    }
   ],
   "source": [
    "#Iterate over every single token using list comprehension and these are the tokens to be worked upon.\n",
    "tokens=[token.text for token in doc]\n",
    "print(tokens)"
   ]
  },
  {
   "cell_type": "code",
   "execution_count": 28,
   "id": "15e13c64",
   "metadata": {},
   "outputs": [],
   "source": [
    "word_freq={}\n",
    "stop_words= list(STOP_WORDS)"
   ]
  },
  {
   "cell_type": "markdown",
   "id": "32afa423",
   "metadata": {},
   "source": [
    "#the words were added to the word_freq dictionary and the number of times they appear in doc has been added as a value in the dictionary."
   ]
  },
  {
   "cell_type": "code",
   "execution_count": 32,
   "id": "bff10c36",
   "metadata": {},
   "outputs": [
    {
     "name": "stdout",
     "output_type": "stream",
     "text": [
      "{'heard': 1, 'Cricket': 1, 'religion': 1, 'India': 6, 'Sachin': 8, 'God': 2, 'better': 1, 'statement': 1, 'justify': 1, 'status': 1, 'Tendulkar': 6, 'cricketer': 1, 'common': 1, 'people': 2, 'example': 1, 'hard': 1, 'work': 1, 'determination': 1, 'worshipped': 1, 'essay': 1, 'small': 1, 'insight': 1, 'greatest': 1, 'sportsman': 1, 'played': 1, 'game': 1, 'born': 1, 'middle': 1, 'class': 1, 'family': 1, 'came': 2, 'limelight': 2, 'performance': 2, 'school': 3, 'tournament': 2, 'held': 1, 'record': 1, 'partnership': 1, 'time': 1, 'Vinod': 1, 'Kambli': 1, 'playing': 1, 'innings': 1, 'changed': 1, 'life': 1, 'completely': 1, 'famous': 1, 'fortnight': 1, 'days': 1, 'tournaments': 1, 'different': 1, 'fanbase': 1, 'good': 1, 'bring': 1, 'inning': 1, 'know': 1, 'caught': 1, 'Indian': 1, 'selector': 1, 'eye': 1, 'selected': 1, 'tour': 1, 'Pakistan': 1, 'age': 1, '16': 1}\n"
     ]
    }
   ],
   "source": [
    "for word in doc:\n",
    "   if word.text.lower() not in stop_words:\n",
    "     if word.text.lower() not in punctuation:\n",
    "       if word.text not in word_freq.keys():\n",
    "         word_freq[word.text]= 1\n",
    "       else:\n",
    "         word_freq[word.text]+= 1 \n",
    "print(word_freq)"
   ]
  },
  {
   "cell_type": "code",
   "execution_count": 34,
   "id": "13677545",
   "metadata": {},
   "outputs": [
    {
     "data": {
      "text/plain": [
       "8"
      ]
     },
     "execution_count": 34,
     "metadata": {},
     "output_type": "execute_result"
    }
   ],
   "source": [
    "#The maximum no of times a word appear has been figured out stored in variable max_freq.\n",
    "\n",
    "x=(word_freq.values())\n",
    "a=list(x)\n",
    "a.sort()\n",
    "max_freq=a[-1]\n",
    "max_freq\n"
   ]
  },
  {
   "cell_type": "markdown",
   "id": "b300b822",
   "metadata": {},
   "source": [
    "### All the score of the words in word_freq dictionary has been normalized by dividing each value in the dictionary by max_freq and to do this a loop has been run on word_freq dictionary and all the values were normalized."
   ]
  },
  {
   "cell_type": "markdown",
   "id": "3800f106",
   "metadata": {},
   "source": [
    "# Normalization "
   ]
  },
  {
   "cell_type": "code",
   "execution_count": 40,
   "id": "e7ec863d",
   "metadata": {},
   "outputs": [
    {
     "name": "stdout",
     "output_type": "stream",
     "text": [
      "{'heard': 0.015625, 'Cricket': 0.015625, 'religion': 0.015625, 'India': 0.09375, 'Sachin': 0.125, 'God': 0.03125, 'better': 0.015625, 'statement': 0.015625, 'justify': 0.015625, 'status': 0.015625, 'Tendulkar': 0.09375, 'cricketer': 0.015625, 'common': 0.015625, 'people': 0.03125, 'example': 0.015625, 'hard': 0.015625, 'work': 0.015625, 'determination': 0.015625, 'worshipped': 0.015625, 'essay': 0.015625, 'small': 0.015625, 'insight': 0.015625, 'greatest': 0.015625, 'sportsman': 0.015625, 'played': 0.015625, 'game': 0.015625, 'born': 0.015625, 'middle': 0.015625, 'class': 0.015625, 'family': 0.015625, 'came': 0.03125, 'limelight': 0.03125, 'performance': 0.03125, 'school': 0.046875, 'tournament': 0.03125, 'held': 0.015625, 'record': 0.015625, 'partnership': 0.015625, 'time': 0.015625, 'Vinod': 0.015625, 'Kambli': 0.015625, 'playing': 0.015625, 'innings': 0.015625, 'changed': 0.015625, 'life': 0.015625, 'completely': 0.015625, 'famous': 0.015625, 'fortnight': 0.015625, 'days': 0.015625, 'tournaments': 0.015625, 'different': 0.015625, 'fanbase': 0.015625, 'good': 0.015625, 'bring': 0.015625, 'inning': 0.015625, 'know': 0.015625, 'caught': 0.015625, 'Indian': 0.015625, 'selector': 0.015625, 'eye': 0.015625, 'selected': 0.015625, 'tour': 0.015625, 'Pakistan': 0.015625, 'age': 0.015625, '16': 0.015625}\n"
     ]
    }
   ],
   "source": [
    "#Sentence Tokenization-Normalization\n",
    "\n",
    "for word in word_freq.keys():\n",
    "    word_freq[word]=word_freq[word]/max_freq \n",
    "print(word_freq)"
   ]
  },
  {
   "cell_type": "code",
   "execution_count": 42,
   "id": "8255e81f",
   "metadata": {},
   "outputs": [
    {
     "name": "stdout",
     "output_type": "stream",
     "text": [
      "[We have often heard that 'Cricket is religion in India and Sachin is God'., There is no better statement that can justify the status of Sachin Tendulkar in India., Sachin Tendulkar in India is not just a cricketer, he is God., Also for common people in India, he is an example of hard work and determination., Thus, he is worshipped by everyone in India., The essay on Sachin Tendulkar is a small insight into one of the greatest ever sportsman to have played any game., Sachin Tendulkar was born to a middle-class family and came to limelight with a performance in the school tournament., He held a record partnership at that time with Vinod Kambli playing for their school tournament., That innings changed Sachin's life completely and he became famous in a fortnight., In those days, the school tournaments had a different fanbase and a good performance can bring you in limelight., Because of that inning, people all over India came to know who Sachin Tendulkar was!, Thus, it also caught Indian selector's eye and Sachin Tendulkar was selected for the tour of Pakistan at an age of 16.]\n"
     ]
    }
   ],
   "source": [
    "#Sentences in doc objects have been segmented by using the list comprehension method and kept in variable sent_tokens.\n",
    "#Sentences as lists\n",
    "sent_score={}\n",
    "sent_tokens=[sent for sent in doc.sents]\n",
    "print(sent_tokens)"
   ]
  },
  {
   "cell_type": "markdown",
   "id": "470ffa83",
   "metadata": {},
   "source": [
    "# Sentence Score"
   ]
  },
  {
   "cell_type": "code",
   "execution_count": 50,
   "id": "8bb30d00",
   "metadata": {},
   "outputs": [
    {
     "name": "stdout",
     "output_type": "stream",
     "text": [
      "{We have often heard that 'Cricket is religion in India and Sachin is God'.: 0.046875, There is no better statement that can justify the status of Sachin Tendulkar in India.: 0.0625, Sachin Tendulkar in India is not just a cricketer, he is God.: 0.015625, Also for common people in India, he is an example of hard work and determination.: 0.109375, Thus, he is worshipped by everyone in India.: 0.015625, The essay on Sachin Tendulkar is a small insight into one of the greatest ever sportsman to have played any game.: 0.109375, Sachin Tendulkar was born to a middle-class family and came to limelight with a performance in the school tournament.: 0.234375, He held a record partnership at that time with Vinod Kambli playing for their school tournament.: 0.15625, That innings changed Sachin's life completely and he became famous in a fortnight.: 0.09375, In those days, the school tournaments had a different fanbase and a good performance can bring you in limelight.: 0.203125, Because of that inning, people all over India came to know who Sachin Tendulkar was!: 0.09375, Thus, it also caught Indian selector's eye and Sachin Tendulkar was selected for the tour of Pakistan at an age of 16.: 0.109375}\n"
     ]
    }
   ],
   "source": [
    "#A score of each individual sentence has been found out based on the word_freq counter.\n",
    "#An empty dictionary sent_score has been created which will hold each sentence as a key and its value as a score. \n",
    "#A loop was iterated on each individual sentence and it was checked the words in those sentences if appear in word_freq\n",
    "# dictionary and then based on the score of a word in word_freq dictionary sent_score has been determined.\n",
    "\n",
    "for sent in sent_tokens:\n",
    "    for word in sent:\n",
    "        if word.text.lower() in word_freq.keys():\n",
    "            if sent not in sent_score.keys(): # \n",
    "                sent_score[sent]=word_freq[word.text.lower()]\n",
    "            else:\n",
    "                sent_score[sent]+= word_freq[word.text.lower()] \n",
    "print(sent_score)\n",
    "\n",
    "\n"
   ]
  },
  {
   "cell_type": "markdown",
   "id": "0b0c65f7",
   "metadata": {},
   "source": [
    "# Select 30% sentences with a maximum score"
   ]
  },
  {
   "cell_type": "markdown",
   "id": "1639a2a4",
   "metadata": {},
   "source": [
    "##### A priority queue is commonly represented using the data structure ‘heap.’ The heapq module in the Python standard library can be used to carry out this implementation. The functions of the heapq module serve the goal of choosing the best element. \n",
    "From heapq module nlargest library was imported. from the total sent_score, 30% has been evaluated which comes to 4, which means a maximum of 4 sentences can be extracted which contains all important information."
   ]
  },
  {
   "cell_type": "code",
   "execution_count": 52,
   "id": "d4d55024",
   "metadata": {},
   "outputs": [
    {
     "data": {
      "text/plain": [
       "3.5999999999999996"
      ]
     },
     "execution_count": 52,
     "metadata": {},
     "output_type": "execute_result"
    }
   ],
   "source": [
    "from heapq import nlargest\n",
    "len(sent_score) *0.3"
   ]
  },
  {
   "cell_type": "code",
   "execution_count": 57,
   "id": "941cff0c",
   "metadata": {},
   "outputs": [
    {
     "name": "stdout",
     "output_type": "stream",
     "text": [
      "[Sachin Tendulkar was born to a middle-class family and came to limelight with a performance in the school tournament., In those days, the school tournaments had a different fanbase and a good performance can bring you in limelight., He held a record partnership at that time with Vinod Kambli playing for their school tournament., Also for common people in India, he is an example of hard work and determination.]\n"
     ]
    }
   ],
   "source": [
    "summary=nlargest(n=4,iterable=sent_score,key=sent_score.get) \n",
    "print(summary)"
   ]
  },
  {
   "cell_type": "code",
   "execution_count": null,
   "id": "b16446be",
   "metadata": {},
   "outputs": [],
   "source": []
  }
 ],
 "metadata": {
  "kernelspec": {
   "display_name": "Python 3",
   "language": "python",
   "name": "python3"
  },
  "language_info": {
   "codemirror_mode": {
    "name": "ipython",
    "version": 3
   },
   "file_extension": ".py",
   "mimetype": "text/x-python",
   "name": "python",
   "nbconvert_exporter": "python",
   "pygments_lexer": "ipython3",
   "version": "3.8.8"
  }
 },
 "nbformat": 4,
 "nbformat_minor": 5
}
